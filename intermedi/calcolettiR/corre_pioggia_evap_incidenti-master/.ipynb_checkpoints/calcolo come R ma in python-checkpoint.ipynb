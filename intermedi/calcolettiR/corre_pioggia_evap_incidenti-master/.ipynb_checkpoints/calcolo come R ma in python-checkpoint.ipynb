{
 "cells": [
  {
   "cell_type": "code",
   "execution_count": 9,
   "metadata": {
    "collapsed": false
   },
   "outputs": [],
   "source": [
    "import pandas as pd\n",
    "import numpy as np\n",
    "import matplotlib.pyplot as plt\n",
    "import matplotlib as mpl"
   ]
  },
  {
   "cell_type": "code",
   "execution_count": 2,
   "metadata": {
    "collapsed": true
   },
   "outputs": [],
   "source": [
    "%matplotlib inline"
   ]
  },
  {
   "cell_type": "code",
   "execution_count": 3,
   "metadata": {
    "collapsed": false
   },
   "outputs": [
    {
     "data": {
      "text/html": [
       "<div>\n",
       "<table border=\"1\" class=\"dataframe\">\n",
       "  <thead>\n",
       "    <tr style=\"text-align: right;\">\n",
       "      <th></th>\n",
       "      <th>month</th>\n",
       "      <th>precipitation</th>\n",
       "      <th>evapotranspiration</th>\n",
       "      <th>incidents</th>\n",
       "      <th>AVP</th>\n",
       "    </tr>\n",
       "  </thead>\n",
       "  <tbody>\n",
       "    <tr>\n",
       "      <th>0</th>\n",
       "      <td>Jan</td>\n",
       "      <td>3.14</td>\n",
       "      <td>136.52</td>\n",
       "      <td>0</td>\n",
       "      <td>197.27</td>\n",
       "    </tr>\n",
       "    <tr>\n",
       "      <th>1</th>\n",
       "      <td>Feb</td>\n",
       "      <td>9.12</td>\n",
       "      <td>138.90</td>\n",
       "      <td>0</td>\n",
       "      <td>138.82</td>\n",
       "    </tr>\n",
       "    <tr>\n",
       "      <th>2</th>\n",
       "      <td>Mar</td>\n",
       "      <td>27.02</td>\n",
       "      <td>154.24</td>\n",
       "      <td>0</td>\n",
       "      <td>69.80</td>\n",
       "    </tr>\n",
       "    <tr>\n",
       "      <th>3</th>\n",
       "      <td>Apr</td>\n",
       "      <td>45.91</td>\n",
       "      <td>140.64</td>\n",
       "      <td>0</td>\n",
       "      <td>44.13</td>\n",
       "    </tr>\n",
       "    <tr>\n",
       "      <th>4</th>\n",
       "      <td>May</td>\n",
       "      <td>59.91</td>\n",
       "      <td>137.12</td>\n",
       "      <td>0</td>\n",
       "      <td>34.03</td>\n",
       "    </tr>\n",
       "    <tr>\n",
       "      <th>5</th>\n",
       "      <td>Jun</td>\n",
       "      <td>74.88</td>\n",
       "      <td>113.68</td>\n",
       "      <td>2</td>\n",
       "      <td>32.74</td>\n",
       "    </tr>\n",
       "    <tr>\n",
       "      <th>6</th>\n",
       "      <td>Jul</td>\n",
       "      <td>84.05</td>\n",
       "      <td>99.65</td>\n",
       "      <td>3</td>\n",
       "      <td>41.81</td>\n",
       "    </tr>\n",
       "    <tr>\n",
       "      <th>7</th>\n",
       "      <td>Aug</td>\n",
       "      <td>76.60</td>\n",
       "      <td>96.55</td>\n",
       "      <td>2</td>\n",
       "      <td>53.72</td>\n",
       "    </tr>\n",
       "    <tr>\n",
       "      <th>8</th>\n",
       "      <td>Sep</td>\n",
       "      <td>93.25</td>\n",
       "      <td>102.84</td>\n",
       "      <td>2</td>\n",
       "      <td>33.72</td>\n",
       "    </tr>\n",
       "    <tr>\n",
       "      <th>9</th>\n",
       "      <td>Oct</td>\n",
       "      <td>63.52</td>\n",
       "      <td>122.28</td>\n",
       "      <td>2</td>\n",
       "      <td>40.61</td>\n",
       "    </tr>\n",
       "    <tr>\n",
       "      <th>10</th>\n",
       "      <td>Nov</td>\n",
       "      <td>13.78</td>\n",
       "      <td>126.76</td>\n",
       "      <td>0</td>\n",
       "      <td>115.94</td>\n",
       "    </tr>\n",
       "    <tr>\n",
       "      <th>11</th>\n",
       "      <td>Dec</td>\n",
       "      <td>3.74</td>\n",
       "      <td>123.86</td>\n",
       "      <td>0</td>\n",
       "      <td>213.52</td>\n",
       "    </tr>\n",
       "  </tbody>\n",
       "</table>\n",
       "</div>"
      ],
      "text/plain": [
       "   month  precipitation  evapotranspiration  incidents     AVP\n",
       "0    Jan           3.14              136.52          0  197.27\n",
       "1    Feb           9.12              138.90          0  138.82\n",
       "2    Mar          27.02              154.24          0   69.80\n",
       "3    Apr          45.91              140.64          0   44.13\n",
       "4    May          59.91              137.12          0   34.03\n",
       "5    Jun          74.88              113.68          2   32.74\n",
       "6    Jul          84.05               99.65          3   41.81\n",
       "7    Aug          76.60               96.55          2   53.72\n",
       "8    Sep          93.25              102.84          2   33.72\n",
       "9    Oct          63.52              122.28          2   40.61\n",
       "10   Nov          13.78              126.76          0  115.94\n",
       "11   Dec           3.74              123.86          0  213.52"
      ]
     },
     "execution_count": 3,
     "metadata": {},
     "output_type": "execute_result"
    }
   ],
   "source": [
    "data_prec_evap = pd.read_csv(\"data_rain_evapo.csv\")\n",
    "data_prec_evap"
   ]
  },
  {
   "cell_type": "code",
   "execution_count": 12,
   "metadata": {
    "collapsed": true
   },
   "outputs": [],
   "source": [
    "from scipy.stats.stats import pearsonr"
   ]
  },
  {
   "cell_type": "code",
   "execution_count": 15,
   "metadata": {
    "collapsed": false
   },
   "outputs": [
    {
     "name": "stdout",
     "output_type": "stream",
     "text": [
      "Correlazione da scipy tra incidenti e pioggia : 0.83930\n",
      "Correlazione da scipy tra incidenti e evapotraspirazione : -0.69412\n"
     ]
    }
   ],
   "source": [
    "print ('Correlazione da scipy tra incidenti e pioggia : %0.5f') % (pearsonr(data_prec_evap['precipitation'],data_prec_evap['incidents'])[0])\n",
    "print ('Correlazione da scipy tra incidenti e evapotraspirazione : %0.5f') % (pearsonr(data_prec_evap['precipitation'],data_prec_evap['evapotranspiration'])[0])"
   ]
  },
  {
   "cell_type": "code",
   "execution_count": 16,
   "metadata": {
    "collapsed": false
   },
   "outputs": [
    {
     "data": {
      "image/png": "[encoded data removed]",
      "text/plain": [
       "<matplotlib.figure.Figure at 0xa595c50>"
      ]
     },
     "metadata": {},
     "output_type": "display_data"
    }
   ],
   "source": [
    "x_range = [data_prec_evap['precipitation'].min() , data_prec_evap['precipitation'].max()]\n",
    "y_range = [data_prec_evap['incidents' ].min() , data_prec_evap['incidents' ].max()]\n",
    "scatter_plot = data_prec_evap.plot(kind='scatter', x='precipitation' ,y='incidents',xlim=x_range, ylim=y_range)"
   ]
  },
  {
   "cell_type": "code",
   "execution_count": 10,
   "metadata": {
    "collapsed": false
   },
   "outputs": [],
   "source": [
    "import statsmodels.formula.api as smf"
   ]
  },
  {
   "cell_type": "code",
   "execution_count": 11,
   "metadata": {
    "collapsed": false
   },
   "outputs": [],
   "source": [
    "linear_regression_solo_pioggia = smf.ols(formula='incidents ~ precipitation', data=data_prec_evap)\n",
    "fitted_model = linear_regression_solo_pioggia.fit()"
   ]
  },
  {
   "cell_type": "code",
   "execution_count": 6,
   "metadata": {
    "collapsed": false
   },
   "outputs": [
    {
     "name": "stderr",
     "output_type": "stream",
     "text": [
      "C:\\Users\\Fabio\\Anaconda2\\lib\\site-packages\\scipy\\stats\\stats.py:1535: UserWarning: kurtosistest only valid for n>=20 ... continuing anyway, n=12\n",
      "  \"anyway, n=%i\" % int(n))\n"
     ]
    },
    {
     "data": {
      "text/html": [
       "<table class=\"simpletable\">\n",
       "<caption>OLS Regression Results</caption>\n",
       "<tr>\n",
       "  <th>Dep. Variable:</th>        <td>incidents</td>    <th>  R-squared:         </th> <td>   0.704</td>\n",
       "</tr>\n",
       "<tr>\n",
       "  <th>Model:</th>                   <td>OLS</td>       <th>  Adj. R-squared:    </th> <td>   0.675</td>\n",
       "</tr>\n",
       "<tr>\n",
       "  <th>Method:</th>             <td>Least Squares</td>  <th>  F-statistic:       </th> <td>   23.83</td>\n",
       "</tr>\n",
       "<tr>\n",
       "  <th>Date:</th>             <td>Thu, 23 Jun 2016</td> <th>  Prob (F-statistic):</th> <td>0.000640</td>\n",
       "</tr>\n",
       "<tr>\n",
       "  <th>Time:</th>                 <td>15:52:07</td>     <th>  Log-Likelihood:    </th> <td> -11.020</td>\n",
       "</tr>\n",
       "<tr>\n",
       "  <th>No. Observations:</th>      <td>    12</td>      <th>  AIC:               </th> <td>   26.04</td>\n",
       "</tr>\n",
       "<tr>\n",
       "  <th>Df Residuals:</th>          <td>    10</td>      <th>  BIC:               </th> <td>   27.01</td>\n",
       "</tr>\n",
       "<tr>\n",
       "  <th>Df Model:</th>              <td>     1</td>      <th>                     </th>     <td> </td>   \n",
       "</tr>\n",
       "<tr>\n",
       "  <th>Covariance Type:</th>      <td>nonrobust</td>    <th>                     </th>     <td> </td>   \n",
       "</tr>\n",
       "</table>\n",
       "<table class=\"simpletable\">\n",
       "<tr>\n",
       "        <td></td>           <th>coef</th>     <th>std err</th>      <th>t</th>      <th>P>|t|</th> <th>[95.0% Conf. Int.]</th> \n",
       "</tr>\n",
       "<tr>\n",
       "  <th>Intercept</th>     <td>   -0.4332</td> <td>    0.336</td> <td>   -1.288</td> <td> 0.227</td> <td>   -1.183     0.316</td>\n",
       "</tr>\n",
       "<tr>\n",
       "  <th>precipitation</th> <td>    0.0292</td> <td>    0.006</td> <td>    4.882</td> <td> 0.001</td> <td>    0.016     0.043</td>\n",
       "</tr>\n",
       "</table>\n",
       "<table class=\"simpletable\">\n",
       "<tr>\n",
       "  <th>Omnibus:</th>       <td> 2.144</td> <th>  Durbin-Watson:     </th> <td>   1.302</td>\n",
       "</tr>\n",
       "<tr>\n",
       "  <th>Prob(Omnibus):</th> <td> 0.342</td> <th>  Jarque-Bera (JB):  </th> <td>   0.967</td>\n",
       "</tr>\n",
       "<tr>\n",
       "  <th>Skew:</th>          <td>-0.695</td> <th>  Prob(JB):          </th> <td>   0.617</td>\n",
       "</tr>\n",
       "<tr>\n",
       "  <th>Kurtosis:</th>      <td> 2.938</td> <th>  Cond. No.          </th> <td>    98.8</td>\n",
       "</tr>\n",
       "</table>"
      ],
      "text/plain": [
       "<class 'statsmodels.iolib.summary.Summary'>\n",
       "\"\"\"\n",
       "                            OLS Regression Results                            \n",
       "==============================================================================\n",
       "Dep. Variable:              incidents   R-squared:                       0.704\n",
       "Model:                            OLS   Adj. R-squared:                  0.675\n",
       "Method:                 Least Squares   F-statistic:                     23.83\n",
       "Date:                Thu, 23 Jun 2016   Prob (F-statistic):           0.000640\n",
       "Time:                        15:52:07   Log-Likelihood:                -11.020\n",
       "No. Observations:                  12   AIC:                             26.04\n",
       "Df Residuals:                      10   BIC:                             27.01\n",
       "Df Model:                           1                                         \n",
       "Covariance Type:            nonrobust                                         \n",
       "=================================================================================\n",
       "                    coef    std err          t      P>|t|      [95.0% Conf. Int.]\n",
       "---------------------------------------------------------------------------------\n",
       "Intercept        -0.4332      0.336     -1.288      0.227        -1.183     0.316\n",
       "precipitation     0.0292      0.006      4.882      0.001         0.016     0.043\n",
       "==============================================================================\n",
       "Omnibus:                        2.144   Durbin-Watson:                   1.302\n",
       "Prob(Omnibus):                  0.342   Jarque-Bera (JB):                0.967\n",
       "Skew:                          -0.695   Prob(JB):                        0.617\n",
       "Kurtosis:                       2.938   Cond. No.                         98.8\n",
       "==============================================================================\n",
       "\n",
       "Warnings:\n",
       "[1] Standard Errors assume that the covariance matrix of the errors is correctly specified.\n",
       "\"\"\""
      ]
     },
     "execution_count": 6,
     "metadata": {},
     "output_type": "execute_result"
    }
   ],
   "source": [
    "fitted_model.summary()"
   ]
  },
  {
   "cell_type": "code",
   "execution_count": 8,
   "metadata": {
    "collapsed": false
   },
   "outputs": [
    {
     "data": {
      "text/html": [
       "<table class=\"simpletable\">\n",
       "<caption>OLS Regression Results</caption>\n",
       "<tr>\n",
       "  <th>Dep. Variable:</th>        <td>incidents</td>    <th>  R-squared:         </th> <td>   0.845</td>\n",
       "</tr>\n",
       "<tr>\n",
       "  <th>Model:</th>                   <td>OLS</td>       <th>  Adj. R-squared:    </th> <td>   0.811</td>\n",
       "</tr>\n",
       "<tr>\n",
       "  <th>Method:</th>             <td>Least Squares</td>  <th>  F-statistic:       </th> <td>   24.55</td>\n",
       "</tr>\n",
       "<tr>\n",
       "  <th>Date:</th>             <td>Thu, 23 Jun 2016</td> <th>  Prob (F-statistic):</th> <td>0.000227</td>\n",
       "</tr>\n",
       "<tr>\n",
       "  <th>Time:</th>                 <td>15:52:07</td>     <th>  Log-Likelihood:    </th> <td> -7.1433</td>\n",
       "</tr>\n",
       "<tr>\n",
       "  <th>No. Observations:</th>      <td>    12</td>      <th>  AIC:               </th> <td>   20.29</td>\n",
       "</tr>\n",
       "<tr>\n",
       "  <th>Df Residuals:</th>          <td>     9</td>      <th>  BIC:               </th> <td>   21.74</td>\n",
       "</tr>\n",
       "<tr>\n",
       "  <th>Df Model:</th>              <td>     2</td>      <th>                     </th>     <td> </td>   \n",
       "</tr>\n",
       "<tr>\n",
       "  <th>Covariance Type:</th>      <td>nonrobust</td>    <th>                     </th>     <td> </td>   \n",
       "</tr>\n",
       "</table>\n",
       "<table class=\"simpletable\">\n",
       "<tr>\n",
       "           <td></td>             <th>coef</th>     <th>std err</th>      <th>t</th>      <th>P>|t|</th> <th>[95.0% Conf. Int.]</th> \n",
       "</tr>\n",
       "<tr>\n",
       "  <th>Intercept</th>          <td>    4.2916</td> <td>    1.673</td> <td>    2.566</td> <td> 0.030</td> <td>    0.508     8.075</td>\n",
       "</tr>\n",
       "<tr>\n",
       "  <th>precipitation</th>      <td>    0.0166</td> <td>    0.006</td> <td>    2.621</td> <td> 0.028</td> <td>    0.002     0.031</td>\n",
       "</tr>\n",
       "<tr>\n",
       "  <th>evapotranspiration</th> <td>   -0.0333</td> <td>    0.012</td> <td>   -2.859</td> <td> 0.019</td> <td>   -0.060    -0.007</td>\n",
       "</tr>\n",
       "</table>\n",
       "<table class=\"simpletable\">\n",
       "<tr>\n",
       "  <th>Omnibus:</th>       <td> 1.192</td> <th>  Durbin-Watson:     </th> <td>   2.235</td>\n",
       "</tr>\n",
       "<tr>\n",
       "  <th>Prob(Omnibus):</th> <td> 0.551</td> <th>  Jarque-Bera (JB):  </th> <td>   0.736</td>\n",
       "</tr>\n",
       "<tr>\n",
       "  <th>Skew:</th>          <td> 0.143</td> <th>  Prob(JB):          </th> <td>   0.692</td>\n",
       "</tr>\n",
       "<tr>\n",
       "  <th>Kurtosis:</th>      <td> 1.820</td> <th>  Cond. No.          </th> <td>1.52e+03</td>\n",
       "</tr>\n",
       "</table>"
      ],
      "text/plain": [
       "<class 'statsmodels.iolib.summary.Summary'>\n",
       "\"\"\"\n",
       "                            OLS Regression Results                            \n",
       "==============================================================================\n",
       "Dep. Variable:              incidents   R-squared:                       0.845\n",
       "Model:                            OLS   Adj. R-squared:                  0.811\n",
       "Method:                 Least Squares   F-statistic:                     24.55\n",
       "Date:                Thu, 23 Jun 2016   Prob (F-statistic):           0.000227\n",
       "Time:                        15:52:07   Log-Likelihood:                -7.1433\n",
       "No. Observations:                  12   AIC:                             20.29\n",
       "Df Residuals:                       9   BIC:                             21.74\n",
       "Df Model:                           2                                         \n",
       "Covariance Type:            nonrobust                                         \n",
       "======================================================================================\n",
       "                         coef    std err          t      P>|t|      [95.0% Conf. Int.]\n",
       "--------------------------------------------------------------------------------------\n",
       "Intercept              4.2916      1.673      2.566      0.030         0.508     8.075\n",
       "precipitation          0.0166      0.006      2.621      0.028         0.002     0.031\n",
       "evapotranspiration    -0.0333      0.012     -2.859      0.019        -0.060    -0.007\n",
       "==============================================================================\n",
       "Omnibus:                        1.192   Durbin-Watson:                   2.235\n",
       "Prob(Omnibus):                  0.551   Jarque-Bera (JB):                0.736\n",
       "Skew:                           0.143   Prob(JB):                        0.692\n",
       "Kurtosis:                       1.820   Cond. No.                     1.52e+03\n",
       "==============================================================================\n",
       "\n",
       "Warnings:\n",
       "[1] Standard Errors assume that the covariance matrix of the errors is correctly specified.\n",
       "[2] The condition number is large, 1.52e+03. This might indicate that there are\n",
       "strong multicollinearity or other numerical problems.\n",
       "\"\"\""
      ]
     },
     "execution_count": 8,
     "metadata": {},
     "output_type": "execute_result"
    }
   ],
   "source": [
    "linear_regression_pioggia_evap = smf.ols(formula='incidents ~ precipitation + evapotranspiration', data=data_prec_evap)\n",
    "fitted_model_prec_evap = linear_regression_pioggia_evap.fit()\n",
    "fitted_model_prec_evap.summary()"
   ]
  },
  {
   "cell_type": "code",
   "execution_count": 18,
   "metadata": {
    "collapsed": false
   },
   "outputs": [],
   "source": [
    "import statsmodels.api as sm"
   ]
  },
  {
   "cell_type": "code",
   "execution_count": 25,
   "metadata": {
    "collapsed": false
   },
   "outputs": [],
   "source": [
    "y = data_prec_evap['incidents']\n",
    "X = data_prec_evap['precipitation']\n",
    "X = sm.add_constant(X)"
   ]
  },
  {
   "cell_type": "code",
   "execution_count": 26,
   "metadata": {
    "collapsed": false
   },
   "outputs": [
    {
     "data": {
      "text/plain": [
       "(0     0\n",
       " 1     0\n",
       " 2     0\n",
       " 3     0\n",
       " 4     0\n",
       " 5     2\n",
       " 6     3\n",
       " 7     2\n",
       " 8     2\n",
       " 9     2\n",
       " 10    0\n",
       " 11    0\n",
       " Name: incidents, dtype: int64,     const  precipitation\n",
       " 0     1.0           3.14\n",
       " 1     1.0           9.12\n",
       " 2     1.0          27.02\n",
       " 3     1.0          45.91\n",
       " 4     1.0          59.91\n",
       " 5     1.0          74.88\n",
       " 6     1.0          84.05\n",
       " 7     1.0          76.60\n",
       " 8     1.0          93.25\n",
       " 9     1.0          63.52\n",
       " 10    1.0          13.78\n",
       " 11    1.0           3.74)"
      ]
     },
     "execution_count": 26,
     "metadata": {},
     "output_type": "execute_result"
    }
   ],
   "source": [
    "y,X"
   ]
  },
  {
   "cell_type": "code",
   "execution_count": 23,
   "metadata": {
    "collapsed": false
   },
   "outputs": [
    {
     "data": {
      "text/html": [
       "<table class=\"simpletable\">\n",
       "<caption>OLS Regression Results</caption>\n",
       "<tr>\n",
       "  <th>Dep. Variable:</th>        <td>incidents</td>    <th>  R-squared:         </th> <td>   0.704</td>\n",
       "</tr>\n",
       "<tr>\n",
       "  <th>Model:</th>                   <td>OLS</td>       <th>  Adj. R-squared:    </th> <td>   0.675</td>\n",
       "</tr>\n",
       "<tr>\n",
       "  <th>Method:</th>             <td>Least Squares</td>  <th>  F-statistic:       </th> <td>   23.83</td>\n",
       "</tr>\n",
       "<tr>\n",
       "  <th>Date:</th>             <td>Thu, 23 Jun 2016</td> <th>  Prob (F-statistic):</th> <td>0.000640</td>\n",
       "</tr>\n",
       "<tr>\n",
       "  <th>Time:</th>                 <td>16:03:59</td>     <th>  Log-Likelihood:    </th> <td> -11.020</td>\n",
       "</tr>\n",
       "<tr>\n",
       "  <th>No. Observations:</th>      <td>    12</td>      <th>  AIC:               </th> <td>   26.04</td>\n",
       "</tr>\n",
       "<tr>\n",
       "  <th>Df Residuals:</th>          <td>    10</td>      <th>  BIC:               </th> <td>   27.01</td>\n",
       "</tr>\n",
       "<tr>\n",
       "  <th>Df Model:</th>              <td>     1</td>      <th>                     </th>     <td> </td>   \n",
       "</tr>\n",
       "<tr>\n",
       "  <th>Covariance Type:</th>      <td>nonrobust</td>    <th>                     </th>     <td> </td>   \n",
       "</tr>\n",
       "</table>\n",
       "<table class=\"simpletable\">\n",
       "<tr>\n",
       "        <td></td>           <th>coef</th>     <th>std err</th>      <th>t</th>      <th>P>|t|</th> <th>[95.0% Conf. Int.]</th> \n",
       "</tr>\n",
       "<tr>\n",
       "  <th>const</th>         <td>   -0.4332</td> <td>    0.336</td> <td>   -1.288</td> <td> 0.227</td> <td>   -1.183     0.316</td>\n",
       "</tr>\n",
       "<tr>\n",
       "  <th>precipitation</th> <td>    0.0292</td> <td>    0.006</td> <td>    4.882</td> <td> 0.001</td> <td>    0.016     0.043</td>\n",
       "</tr>\n",
       "</table>\n",
       "<table class=\"simpletable\">\n",
       "<tr>\n",
       "  <th>Omnibus:</th>       <td> 2.144</td> <th>  Durbin-Watson:     </th> <td>   1.302</td>\n",
       "</tr>\n",
       "<tr>\n",
       "  <th>Prob(Omnibus):</th> <td> 0.342</td> <th>  Jarque-Bera (JB):  </th> <td>   0.967</td>\n",
       "</tr>\n",
       "<tr>\n",
       "  <th>Skew:</th>          <td>-0.695</td> <th>  Prob(JB):          </th> <td>   0.617</td>\n",
       "</tr>\n",
       "<tr>\n",
       "  <th>Kurtosis:</th>      <td> 2.938</td> <th>  Cond. No.          </th> <td>    98.8</td>\n",
       "</tr>\n",
       "</table>"
      ],
      "text/plain": [
       "<class 'statsmodels.iolib.summary.Summary'>\n",
       "\"\"\"\n",
       "                            OLS Regression Results                            \n",
       "==============================================================================\n",
       "Dep. Variable:              incidents   R-squared:                       0.704\n",
       "Model:                            OLS   Adj. R-squared:                  0.675\n",
       "Method:                 Least Squares   F-statistic:                     23.83\n",
       "Date:                Thu, 23 Jun 2016   Prob (F-statistic):           0.000640\n",
       "Time:                        16:03:59   Log-Likelihood:                -11.020\n",
       "No. Observations:                  12   AIC:                             26.04\n",
       "Df Residuals:                      10   BIC:                             27.01\n",
       "Df Model:                           1                                         \n",
       "Covariance Type:            nonrobust                                         \n",
       "=================================================================================\n",
       "                    coef    std err          t      P>|t|      [95.0% Conf. Int.]\n",
       "---------------------------------------------------------------------------------\n",
       "const            -0.4332      0.336     -1.288      0.227        -1.183     0.316\n",
       "precipitation     0.0292      0.006      4.882      0.001         0.016     0.043\n",
       "==============================================================================\n",
       "Omnibus:                        2.144   Durbin-Watson:                   1.302\n",
       "Prob(Omnibus):                  0.342   Jarque-Bera (JB):                0.967\n",
       "Skew:                          -0.695   Prob(JB):                        0.617\n",
       "Kurtosis:                       2.938   Cond. No.                         98.8\n",
       "==============================================================================\n",
       "\n",
       "Warnings:\n",
       "[1] Standard Errors assume that the covariance matrix of the errors is correctly specified.\n",
       "\"\"\""
      ]
     },
     "execution_count": 23,
     "metadata": {},
     "output_type": "execute_result"
    }
   ],
   "source": [
    "#NON UGUALE A R MA PIU Pythonic\n",
    "linear_regression_pioggia_pythonesco = sm.OLS(y,X)\n",
    "fitted_model_pythonesco = linear_regression_pioggia_pythonesco.fit()\n",
    "fitted_model_pythonesco.summary()"
   ]
  },
  {
   "cell_type": "code",
   "execution_count": 27,
   "metadata": {
    "collapsed": false
   },
   "outputs": [
    {
     "name": "stdout",
     "output_type": "stream",
     "text": [
      "const           -0.433195\n",
      "precipitation    0.029190\n",
      "dtype: float64\n"
     ]
    }
   ],
   "source": [
    "print (fitted_model_pythonesco.params)"
   ]
  },
  {
   "cell_type": "code",
   "execution_count": 28,
   "metadata": {
    "collapsed": true
   },
   "outputs": [],
   "source": [
    "betas = np.array(fitted_model_pythonesco.params)\n",
    "fitted_values = fitted_model_pythonesco.predict(X)"
   ]
  },
  {
   "cell_type": "code",
   "execution_count": 36,
   "metadata": {
    "collapsed": true
   },
   "outputs": [],
   "source": [
    "def standardize(variable) :\n",
    "    return (variable - np.mean(variable)) / np.std(variable)\n",
    "\n",
    "def normalize(variable) :\n",
    "    return (variable - min(variable)) / (max(variable) - min(variable))\n"
   ]
  },
  {
   "cell_type": "code",
   "execution_count": 37,
   "metadata": {
    "collapsed": false
   },
   "outputs": [
    {
     "name": "stdout",
     "output_type": "stream",
     "text": [
      "0    -1.344579\n",
      "1    -1.158037\n",
      "2    -0.599659\n",
      "3    -0.010398\n",
      "4     0.426322\n",
      "5     0.893301\n",
      "6     1.179353\n",
      "7     0.946956\n",
      "8     1.466341\n",
      "9     0.538934\n",
      "10   -1.012672\n",
      "11   -1.325863\n",
      "Name: precipitation, dtype: float64\n",
      "0     0.000000\n",
      "1     0.066363\n",
      "2     0.265009\n",
      "3     0.474642\n",
      "4     0.630008\n",
      "5     0.796138\n",
      "6     0.897903\n",
      "7     0.815226\n",
      "8     1.000000\n",
      "9     0.670070\n",
      "10    0.118078\n",
      "11    0.006659\n",
      "Name: precipitation, dtype: float64\n",
      "[-0.34153711 -0.16697849  0.35552977  0.90693653  1.31560221  1.75258258\n",
      "  2.0202586   1.80279008  2.28881033  1.42097957 -0.0309512  -0.32402287]\n"
     ]
    }
   ],
   "source": [
    "print standardize(data_prec_evap['precipitation'])\n",
    "print normalize(data_prec_evap['precipitation'])\n",
    "print fitted_values"
   ]
  },
  {
   "cell_type": "code",
   "execution_count": null,
   "metadata": {
    "collapsed": true
   },
   "outputs": [],
   "source": []
  }
 ],
 "metadata": {
  "kernelspec": {
   "display_name": "Python 2",
   "language": "python",
   "name": "python2"
  },
  "language_info": {
   "codemirror_mode": {
    "name": "ipython",
    "version": 2
   },
   "file_extension": ".py",
   "mimetype": "text/x-python",
   "name": "python",
   "nbconvert_exporter": "python",
   "pygments_lexer": "ipython2",
   "version": "2.7.11"
  }
 },
 "nbformat": 4,
 "nbformat_minor": 0
}
